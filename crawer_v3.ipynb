{
 "cells": [
  {
   "cell_type": "markdown",
   "metadata": {},
   "source": [
    "$homework \\ \\ description$:\n",
    "\n",
    ". match logic expression with news title\n",
    "\n",
    "$method$: $eval()$ function to convert chinese words to boolen value\n",
    "\n",
    "$other \\ \\  feature$:\n",
    "\n",
    ". use the BeautifulSoup lib to get the lastest web news"
   ]
  },
  {
   "cell_type": "code",
   "execution_count": 25,
   "metadata": {},
   "outputs": [
    {
     "data": {
      "text/html": [
       "<span style=\"color:red\">国庆</span><span style=\"color:red\">阅兵</span>这些\"大国重器\"首次亮相 A股反响几何？"
      ],
      "text/plain": [
       "<IPython.core.display.HTML object>"
      ]
     },
     "metadata": {},
     "output_type": "display_data"
    },
    {
     "data": {
      "text/html": [
       "来京参加<span style=\"color:red\">国庆</span>活动的光头刘Sir:身为<span style=\"color:red\">中国</span>人无比骄"
      ],
      "text/plain": [
       "<IPython.core.display.HTML object>"
      ]
     },
     "metadata": {},
     "output_type": "display_data"
    },
    {
     "data": {
      "text/html": [
       "恒大在日本观看<span style=\"color:red\">国庆</span>大<span style=\"color:red\">阅兵</span> 艾克森目不转睛格外认真"
      ],
      "text/plain": [
       "<IPython.core.display.HTML object>"
      ]
     },
     "metadata": {},
     "output_type": "display_data"
    },
    {
     "data": {
      "text/html": [
       "雷军、董明珠等打卡<span style=\"color:red\">国庆</span><span style=\"color:red\">阅兵</span> 心情犹如小学生春游"
      ],
      "text/plain": [
       "<IPython.core.display.HTML object>"
      ]
     },
     "metadata": {},
     "output_type": "display_data"
    },
    {
     "data": {
      "text/html": [
       "姚晨谭维维等艺人现场看<span style=\"color:red\">阅兵</span> 挥舞红旗为祖<span style=\"color:red\">国庆</span>生"
      ],
      "text/plain": [
       "<IPython.core.display.HTML object>"
      ]
     },
     "metadata": {},
     "output_type": "display_data"
    },
    {
     "data": {
      "text/html": [
       "<span style=\"color:red\">国庆</span>大<span style=\"color:red\">阅兵</span>全实录 所有方队、装备详细介绍来了"
      ],
      "text/plain": [
       "<IPython.core.display.HTML object>"
      ]
     },
     "metadata": {},
     "output_type": "display_data"
    },
    {
     "data": {
      "text/html": [
       "国产卫星视角下<span style=\"color:red\">国庆</span><span style=\"color:red\">阅兵</span>：受阅方队拍的\"一清二楚\""
      ],
      "text/plain": [
       "<IPython.core.display.HTML object>"
      ]
     },
     "metadata": {},
     "output_type": "display_data"
    },
    {
     "data": {
      "text/html": [
       "习近平签署通令 嘉奖参加<span style=\"color:red\">国庆</span>70周年<span style=\"color:red\">阅兵</span>全体人员"
      ],
      "text/plain": [
       "<IPython.core.display.HTML object>"
      ]
     },
     "metadata": {},
     "output_type": "display_data"
    },
    {
     "data": {
      "text/html": [
       "新人<span style=\"color:red\">国庆</span>办婚礼 答谢宴上取消仪式用大屏幕看<span style=\"color:red\">阅兵</span>"
      ],
      "text/plain": [
       "<IPython.core.display.HTML object>"
      ]
     },
     "metadata": {},
     "output_type": "display_data"
    }
   ],
   "source": [
    "import jieba\n",
    "import requests\n",
    "from bs4 import BeautifulSoup\n",
    "from IPython.display import HTML\n",
    "\n",
    "url = 'http://news.163.com/special/0001386F/rank_whole.html'\n",
    "news = requests.get(url).text\n",
    "soup = BeautifulSoup(news, 'lxml')\n",
    "titles = soup.find('div', 'area areabg1').find_all('a', limit=100)\n",
    "titles = set(titles)\n",
    "\n",
    "# keywords = '中国 华为'\n",
    "# keywords = '中国华为'\n",
    "keywords = '国庆 and (阅兵 or 中国)'\n",
    "keywords_ = ' '.join(jieba.cut(keywords))\n",
    "keywords_ = keywords_.split()\n",
    "signlist = ['(', ')', 'and', 'or']\n",
    "\n",
    "\n",
    "def word_match(word, title):\n",
    "'''\n",
    "word_match(word, title): to match word with title, return boolean result\n",
    "    args:   word   --keyword, str\n",
    "            title  --titlelist, list\n",
    "    rets:   boolen result\n",
    "''' \n",
    "    return (word in title)\n",
    "\n",
    "for title in titles:\n",
    "    result = ''\n",
    "    #get title(href, text)'s text attr\n",
    "    title = title.text\n",
    "    for word in keywords_:\n",
    "        if word not in signlist:\n",
    "            #match chinese words and convert into boolean expression\n",
    "            if word_match(word, title):\n",
    "                title = title.replace(word, '<span style=\"color:red\">{}</span>'.format(word))\n",
    "                result += ' ' +  'True'\n",
    "            #append sign into result\n",
    "            else:\n",
    "                result += ' ' +  'False'\n",
    "        else:\n",
    "            result += ' ' + str(word)\n",
    "    #print(result)\n",
    "    if eval(result):\n",
    "        display(HTML(title))    "
   ]
  }
 ],
 "metadata": {
  "kernelspec": {
   "display_name": "Python 3",
   "language": "python",
   "name": "python3"
  },
  "language_info": {
   "codemirror_mode": {
    "name": "ipython",
    "version": 3
   },
   "file_extension": ".py",
   "mimetype": "text/x-python",
   "name": "python",
   "nbconvert_exporter": "python",
   "pygments_lexer": "ipython3",
   "version": "3.6.5"
  }
 },
 "nbformat": 4,
 "nbformat_minor": 2
}
